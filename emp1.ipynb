{
 "cells": [
  {
   "cell_type": "code",
   "execution_count": 488,
   "metadata": {},
   "outputs": [],
   "source": [
    "import numpy as np\n",
    "import warnings\n",
    "warnings.filterwarnings('ignore')\n",
    "import seaborn as sns\n",
    "import pandas as pd\n",
    "import matplotlib.pyplot as plt\n",
    "from sklearn.model_selection import train_test_split\n",
    "from sklearn.preprocessing import MinMaxScaler\n",
    "from sklearn.linear_model import LogisticRegression\n",
    "\n",
    "from sklearn.ensemble import RandomForestRegressor\n",
    "from sklearn.linear_model import LinearRegression\n",
    "\n",
    "from sklearn.metrics import mean_squared_error\n",
    "from sklearn.metrics import r2_score\n",
    "from sklearn.linear_model import Lasso, Ridge\n",
    "from sklearn.metrics import make_scorer\n",
    "from sklearn.model_selection import cross_val_score, GridSearchCV\n",
    "scorer = make_scorer(mean_squared_error, greater_is_better = False)"
   ]
  },
  {
   "cell_type": "markdown",
   "metadata": {},
   "source": [
    "## Loading train data"
   ]
  },
  {
   "cell_type": "code",
   "execution_count": 489,
   "metadata": {},
   "outputs": [
    {
     "data": {
      "text/html": [
       "<div>\n",
       "<style scoped>\n",
       "    .dataframe tbody tr th:only-of-type {\n",
       "        vertical-align: middle;\n",
       "    }\n",
       "\n",
       "    .dataframe tbody tr th {\n",
       "        vertical-align: top;\n",
       "    }\n",
       "\n",
       "    .dataframe thead th {\n",
       "        text-align: right;\n",
       "    }\n",
       "</style>\n",
       "<table border=\"1\" class=\"dataframe\">\n",
       "  <thead>\n",
       "    <tr style=\"text-align: right;\">\n",
       "      <th></th>\n",
       "      <th>Airline</th>\n",
       "      <th>Date_of_Journey</th>\n",
       "      <th>Source</th>\n",
       "      <th>Destination</th>\n",
       "      <th>Route</th>\n",
       "      <th>Dep_Time</th>\n",
       "      <th>Arrival_Time</th>\n",
       "      <th>Duration</th>\n",
       "      <th>Total_Stops</th>\n",
       "      <th>Additional_Info</th>\n",
       "      <th>Price</th>\n",
       "    </tr>\n",
       "  </thead>\n",
       "  <tbody>\n",
       "    <tr>\n",
       "      <td>0</td>\n",
       "      <td>Airline C</td>\n",
       "      <td>12/06/2019</td>\n",
       "      <td>Delhi</td>\n",
       "      <td>Cochin</td>\n",
       "      <td>DEL → MAA → COK</td>\n",
       "      <td>20:40</td>\n",
       "      <td>09:25 13 Jun</td>\n",
       "      <td>12h 45m</td>\n",
       "      <td>1 stop</td>\n",
       "      <td>No info</td>\n",
       "      <td>7480</td>\n",
       "    </tr>\n",
       "    <tr>\n",
       "      <td>1</td>\n",
       "      <td>Airline A</td>\n",
       "      <td>18/06/2019</td>\n",
       "      <td>Banglore</td>\n",
       "      <td>Delhi</td>\n",
       "      <td>BLR → DEL</td>\n",
       "      <td>18:55</td>\n",
       "      <td>22:00</td>\n",
       "      <td>3h 5m</td>\n",
       "      <td>non-stop</td>\n",
       "      <td>No info</td>\n",
       "      <td>8016</td>\n",
       "    </tr>\n",
       "    <tr>\n",
       "      <td>2</td>\n",
       "      <td>Airline C</td>\n",
       "      <td>18/05/2019</td>\n",
       "      <td>Delhi</td>\n",
       "      <td>Cochin</td>\n",
       "      <td>DEL → BOM → COK</td>\n",
       "      <td>03:50</td>\n",
       "      <td>19:15</td>\n",
       "      <td>15h 25m</td>\n",
       "      <td>1 stop</td>\n",
       "      <td>No info</td>\n",
       "      <td>8879</td>\n",
       "    </tr>\n",
       "    <tr>\n",
       "      <td>3</td>\n",
       "      <td>Airline A</td>\n",
       "      <td>6/05/2019</td>\n",
       "      <td>Kolkata</td>\n",
       "      <td>Banglore</td>\n",
       "      <td>CCU → BOM → BLR</td>\n",
       "      <td>20:00</td>\n",
       "      <td>08:15 07 May</td>\n",
       "      <td>12h 15m</td>\n",
       "      <td>1 stop</td>\n",
       "      <td>In-flight meal not included</td>\n",
       "      <td>9663</td>\n",
       "    </tr>\n",
       "    <tr>\n",
       "      <td>4</td>\n",
       "      <td>Airline A</td>\n",
       "      <td>9/05/2019</td>\n",
       "      <td>Kolkata</td>\n",
       "      <td>Banglore</td>\n",
       "      <td>CCU → BOM → BLR</td>\n",
       "      <td>06:30</td>\n",
       "      <td>12:00</td>\n",
       "      <td>5h 30m</td>\n",
       "      <td>1 stop</td>\n",
       "      <td>In-flight meal not included</td>\n",
       "      <td>9663</td>\n",
       "    </tr>\n",
       "  </tbody>\n",
       "</table>\n",
       "</div>"
      ],
      "text/plain": [
       "     Airline Date_of_Journey    Source Destination            Route Dep_Time  \\\n",
       "0  Airline C      12/06/2019     Delhi      Cochin  DEL → MAA → COK    20:40   \n",
       "1  Airline A      18/06/2019  Banglore       Delhi        BLR → DEL    18:55   \n",
       "2  Airline C      18/05/2019     Delhi      Cochin  DEL → BOM → COK    03:50   \n",
       "3  Airline A       6/05/2019   Kolkata    Banglore  CCU → BOM → BLR    20:00   \n",
       "4  Airline A       9/05/2019   Kolkata    Banglore  CCU → BOM → BLR    06:30   \n",
       "\n",
       "   Arrival_Time Duration Total_Stops              Additional_Info  Price  \n",
       "0  09:25 13 Jun  12h 45m      1 stop                      No info   7480  \n",
       "1         22:00    3h 5m    non-stop                      No info   8016  \n",
       "2         19:15  15h 25m      1 stop                      No info   8879  \n",
       "3  08:15 07 May  12h 15m      1 stop  In-flight meal not included   9663  \n",
       "4         12:00   5h 30m      1 stop  In-flight meal not included   9663  "
      ]
     },
     "execution_count": 489,
     "metadata": {},
     "output_type": "execute_result"
    }
   ],
   "source": [
    "train = pd.read_csv('train.csv')\n",
    "train.head()"
   ]
  },
  {
   "cell_type": "markdown",
   "metadata": {},
   "source": [
    "## loading test data"
   ]
  },
  {
   "cell_type": "code",
   "execution_count": 490,
   "metadata": {},
   "outputs": [
    {
     "data": {
      "text/html": [
       "<div>\n",
       "<style scoped>\n",
       "    .dataframe tbody tr th:only-of-type {\n",
       "        vertical-align: middle;\n",
       "    }\n",
       "\n",
       "    .dataframe tbody tr th {\n",
       "        vertical-align: top;\n",
       "    }\n",
       "\n",
       "    .dataframe thead th {\n",
       "        text-align: right;\n",
       "    }\n",
       "</style>\n",
       "<table border=\"1\" class=\"dataframe\">\n",
       "  <thead>\n",
       "    <tr style=\"text-align: right;\">\n",
       "      <th></th>\n",
       "      <th>Airline</th>\n",
       "      <th>Date_of_Journey</th>\n",
       "      <th>Source</th>\n",
       "      <th>Destination</th>\n",
       "      <th>Route</th>\n",
       "      <th>Dep_Time</th>\n",
       "      <th>Arrival_Time</th>\n",
       "      <th>Duration</th>\n",
       "      <th>Total_Stops</th>\n",
       "      <th>Additional_Info</th>\n",
       "    </tr>\n",
       "  </thead>\n",
       "  <tbody>\n",
       "    <tr>\n",
       "      <td>0</td>\n",
       "      <td>Airline B</td>\n",
       "      <td>27-03-2019</td>\n",
       "      <td>Delhi</td>\n",
       "      <td>Cochin</td>\n",
       "      <td>DEL → HYD → COK</td>\n",
       "      <td>04:55</td>\n",
       "      <td>16:10</td>\n",
       "      <td>11h 15m</td>\n",
       "      <td>1 stop</td>\n",
       "      <td>No info</td>\n",
       "    </tr>\n",
       "    <tr>\n",
       "      <td>1</td>\n",
       "      <td>Airline E</td>\n",
       "      <td>27-05-2019</td>\n",
       "      <td>Kolkata</td>\n",
       "      <td>Banglore</td>\n",
       "      <td>CCU → BLR</td>\n",
       "      <td>22:20</td>\n",
       "      <td>28-05-2020 00:40</td>\n",
       "      <td>2h 20m</td>\n",
       "      <td>non-stop</td>\n",
       "      <td>No info</td>\n",
       "    </tr>\n",
       "    <tr>\n",
       "      <td>2</td>\n",
       "      <td>Airline C</td>\n",
       "      <td>06-06-2019</td>\n",
       "      <td>Kolkata</td>\n",
       "      <td>Banglore</td>\n",
       "      <td>CCU → IXR → DEL → BLR</td>\n",
       "      <td>05:50</td>\n",
       "      <td>20:25</td>\n",
       "      <td>14h 35m</td>\n",
       "      <td>2 stops</td>\n",
       "      <td>No info</td>\n",
       "    </tr>\n",
       "    <tr>\n",
       "      <td>3</td>\n",
       "      <td>Airline A</td>\n",
       "      <td>06-03-2019</td>\n",
       "      <td>Banglore</td>\n",
       "      <td>New Delhi</td>\n",
       "      <td>BLR → MAA → DEL</td>\n",
       "      <td>09:45</td>\n",
       "      <td>14:25</td>\n",
       "      <td>4h 40m</td>\n",
       "      <td>1 stop</td>\n",
       "      <td>No info</td>\n",
       "    </tr>\n",
       "    <tr>\n",
       "      <td>4</td>\n",
       "      <td>Airline B</td>\n",
       "      <td>15-06-2019</td>\n",
       "      <td>Delhi</td>\n",
       "      <td>Cochin</td>\n",
       "      <td>DEL → BOM → COK</td>\n",
       "      <td>16:00</td>\n",
       "      <td>16-06-2020 01:30</td>\n",
       "      <td>9h 30m</td>\n",
       "      <td>1 stop</td>\n",
       "      <td>No info</td>\n",
       "    </tr>\n",
       "  </tbody>\n",
       "</table>\n",
       "</div>"
      ],
      "text/plain": [
       "     Airline Date_of_Journey    Source Destination                  Route  \\\n",
       "0  Airline B      27-03-2019     Delhi      Cochin        DEL → HYD → COK   \n",
       "1  Airline E      27-05-2019   Kolkata    Banglore              CCU → BLR   \n",
       "2  Airline C      06-06-2019   Kolkata    Banglore  CCU → IXR → DEL → BLR   \n",
       "3  Airline A      06-03-2019  Banglore   New Delhi        BLR → MAA → DEL   \n",
       "4  Airline B      15-06-2019     Delhi      Cochin        DEL → BOM → COK   \n",
       "\n",
       "  Dep_Time      Arrival_Time Duration Total_Stops Additional_Info  \n",
       "0    04:55             16:10  11h 15m      1 stop         No info  \n",
       "1    22:20  28-05-2020 00:40   2h 20m    non-stop         No info  \n",
       "2    05:50             20:25  14h 35m     2 stops         No info  \n",
       "3    09:45             14:25   4h 40m      1 stop         No info  \n",
       "4    16:00  16-06-2020 01:30   9h 30m      1 stop         No info  "
      ]
     },
     "execution_count": 490,
     "metadata": {},
     "output_type": "execute_result"
    }
   ],
   "source": [
    "test = pd.read_csv('test.csv')\n",
    "test.head()"
   ]
  },
  {
   "cell_type": "markdown",
   "metadata": {},
   "source": [
    "### null value check for train and test data"
   ]
  },
  {
   "cell_type": "code",
   "execution_count": 491,
   "metadata": {
    "scrolled": true
   },
   "outputs": [
    {
     "data": {
      "text/plain": [
       "Airline            0\n",
       "Date_of_Journey    0\n",
       "Source             0\n",
       "Destination        0\n",
       "Route              1\n",
       "Dep_Time           0\n",
       "Arrival_Time       0\n",
       "Duration           0\n",
       "Total_Stops        1\n",
       "Additional_Info    0\n",
       "Price              0\n",
       "dtype: int64"
      ]
     },
     "execution_count": 491,
     "metadata": {},
     "output_type": "execute_result"
    }
   ],
   "source": [
    "train.isnull().sum()"
   ]
  },
  {
   "cell_type": "raw",
   "metadata": {},
   "source": [
    "Insight:\n",
    "2 Null values found"
   ]
  },
  {
   "cell_type": "code",
   "execution_count": 492,
   "metadata": {
    "scrolled": true
   },
   "outputs": [
    {
     "data": {
      "text/plain": [
       "Airline            0\n",
       "Date_of_Journey    0\n",
       "Source             0\n",
       "Destination        0\n",
       "Route              0\n",
       "Dep_Time           0\n",
       "Arrival_Time       0\n",
       "Duration           0\n",
       "Total_Stops        0\n",
       "Additional_Info    0\n",
       "dtype: int64"
      ]
     },
     "execution_count": 492,
     "metadata": {},
     "output_type": "execute_result"
    }
   ],
   "source": [
    "test.isnull().sum()"
   ]
  },
  {
   "cell_type": "markdown",
   "metadata": {},
   "source": [
    "### dropping null values"
   ]
  },
  {
   "cell_type": "code",
   "execution_count": 493,
   "metadata": {},
   "outputs": [],
   "source": [
    "train = train.dropna()"
   ]
  },
  {
   "cell_type": "markdown",
   "metadata": {},
   "source": [
    "### getting an overview of data"
   ]
  },
  {
   "cell_type": "code",
   "execution_count": 494,
   "metadata": {},
   "outputs": [
    {
     "name": "stdout",
     "output_type": "stream",
     "text": [
      "<class 'pandas.core.frame.DataFrame'>\n",
      "Int64Index: 8011 entries, 0 to 8011\n",
      "Data columns (total 11 columns):\n",
      "Airline            8011 non-null object\n",
      "Date_of_Journey    8011 non-null object\n",
      "Source             8011 non-null object\n",
      "Destination        8011 non-null object\n",
      "Route              8011 non-null object\n",
      "Dep_Time           8011 non-null object\n",
      "Arrival_Time       8011 non-null object\n",
      "Duration           8011 non-null object\n",
      "Total_Stops        8011 non-null object\n",
      "Additional_Info    8011 non-null object\n",
      "Price              8011 non-null int64\n",
      "dtypes: int64(1), object(10)\n",
      "memory usage: 751.0+ KB\n"
     ]
    }
   ],
   "source": [
    "train.info()"
   ]
  },
  {
   "cell_type": "code",
   "execution_count": 495,
   "metadata": {},
   "outputs": [
    {
     "name": "stdout",
     "output_type": "stream",
     "text": [
      "<class 'pandas.core.frame.DataFrame'>\n",
      "RangeIndex: 2671 entries, 0 to 2670\n",
      "Data columns (total 10 columns):\n",
      "Airline            2671 non-null object\n",
      "Date_of_Journey    2671 non-null object\n",
      "Source             2671 non-null object\n",
      "Destination        2671 non-null object\n",
      "Route              2671 non-null object\n",
      "Dep_Time           2671 non-null object\n",
      "Arrival_Time       2671 non-null object\n",
      "Duration           2671 non-null object\n",
      "Total_Stops        2671 non-null object\n",
      "Additional_Info    2671 non-null object\n",
      "dtypes: object(10)\n",
      "memory usage: 208.8+ KB\n"
     ]
    }
   ],
   "source": [
    "test.info()"
   ]
  },
  {
   "cell_type": "markdown",
   "metadata": {},
   "source": [
    "### finding unique value counts in train and test data"
   ]
  },
  {
   "cell_type": "code",
   "execution_count": 496,
   "metadata": {},
   "outputs": [
    {
     "name": "stdout",
     "output_type": "stream",
     "text": [
      "Unique values in Airline 12\n",
      "Unique values in Date_of_Journey 44\n",
      "Unique values in Source 5\n",
      "Unique values in Destination 6\n",
      "Unique values in Route 122\n",
      "Unique values in Dep_Time 219\n",
      "Unique values in Arrival_Time 1182\n",
      "Unique values in Duration 353\n",
      "Unique values in Total_Stops 4\n",
      "Unique values in Additional_Info 10\n",
      "Unique values in Price 1632\n"
     ]
    }
   ],
   "source": [
    "for i in train.columns:\n",
    "    print(\"Unique values in\", i, train[i].nunique())"
   ]
  },
  {
   "cell_type": "code",
   "execution_count": 497,
   "metadata": {},
   "outputs": [
    {
     "name": "stdout",
     "output_type": "stream",
     "text": [
      "Unique values in Airline 9\n",
      "Unique values in Date_of_Journey 40\n",
      "Unique values in Source 5\n",
      "Unique values in Destination 6\n",
      "Unique values in Route 96\n",
      "Unique values in Dep_Time 196\n",
      "Unique values in Arrival_Time 697\n",
      "Unique values in Duration 321\n",
      "Unique values in Total_Stops 5\n",
      "Unique values in Additional_Info 6\n"
     ]
    }
   ],
   "source": [
    "for i in test.columns:\n",
    "    print(\"Unique values in\", i, test[i].nunique())"
   ]
  },
  {
   "cell_type": "markdown",
   "metadata": {},
   "source": [
    "### creating a new column Days_bfr_journey, the ticket was booked\n"
   ]
  },
  {
   "cell_type": "code",
   "execution_count": 498,
   "metadata": {},
   "outputs": [],
   "source": [
    "\n",
    "train_new = train.copy() \n",
    "train_new['Day_of_Booking'] = '1/1/2019'\n",
    "train_new['Day_of_Booking'] = pd.to_datetime(train_new['Day_of_Booking'],format='%d/%m/%Y')\n",
    "train_new['Date_of_Journey'] = pd.to_datetime(train_new['Date_of_Journey'],format='%d/%m/%Y')\n",
    "train_new['Days_to_Departure'] = (train_new['Date_of_Journey'] - train_new['Day_of_Booking']).dt.days\n",
    "train['Days_bfr_journey'] = train_new['Days_to_Departure']"
   ]
  },
  {
   "cell_type": "code",
   "execution_count": 499,
   "metadata": {
    "scrolled": true
   },
   "outputs": [],
   "source": [
    "test_new = test.copy() \n",
    "test_new['Day_of_Booking'] = '1/1/2019'\n",
    "test_new['Day_of_Booking'] = pd.to_datetime(test_new['Day_of_Booking'],format='%d/%m/%Y')\n",
    "test_new['Date_of_Journey'] = pd.to_datetime(test_new['Date_of_Journey'],format='%d-%m-%Y')\n",
    "test_new['Days_to_Departure'] = (test_new['Date_of_Journey'] - test_new['Day_of_Booking']).dt.days\n",
    "test['Days_bfr_journey'] = test_new['Days_to_Departure']"
   ]
  },
  {
   "cell_type": "markdown",
   "metadata": {},
   "source": [
    "### removing date from Arrival_Time column"
   ]
  },
  {
   "cell_type": "code",
   "execution_count": 500,
   "metadata": {},
   "outputs": [],
   "source": [
    "train['Arrival_Time'] = train['Arrival_Time'].str.split(' ').str[0]\n",
    "test['Arrival_Time'] = test['Arrival_Time'].str.split(' ').str[-1]"
   ]
  },
  {
   "cell_type": "code",
   "execution_count": 501,
   "metadata": {},
   "outputs": [],
   "source": [
    "## dropping row 1054 since unwanted format value is present\n",
    "\n",
    "train = train.drop([train.index[1054]])"
   ]
  },
  {
   "cell_type": "markdown",
   "metadata": {},
   "source": [
    "### Creating a new feature Duration where converting hours in minutes format both for train and test data"
   ]
  },
  {
   "cell_type": "code",
   "execution_count": 502,
   "metadata": {},
   "outputs": [],
   "source": [
    "train['Hours'] = train['Duration'].str.split(' ').str[0]\n",
    "train['Hours'] = train['Hours'].str.replace('h','')\n",
    "train['Hours'] = train['Hours'].astype(float)\n",
    "\n",
    "train['Minutes'] = train['Duration'].str.split(' ').str[1]\n",
    "train['Minutes'] = train['Minutes'].str.replace('m','').astype(float)\n",
    "\n",
    "\n",
    "test['Hours'] = test['Duration'].str.split(' ').str[0]\n",
    "test['Hours'] = test['Hours'].str.replace('h','')\n",
    "test['Hours'] = test['Hours'].astype(float)\n",
    "\n",
    "test['Minutes'] = test['Duration'].str.split(' ').str[1]\n",
    "test['Minutes'] = test['Minutes'].str.replace('m','').astype(float)"
   ]
  },
  {
   "cell_type": "code",
   "execution_count": 503,
   "metadata": {},
   "outputs": [],
   "source": [
    "train['Hours'] = train['Hours'] * 60\n",
    "train['Duration'] = train['Hours'] + train['Minutes']\n",
    "\n",
    "test['Hours'] = test['Hours'] * 60\n",
    "test['Duration'] = test['Hours'] + test['Minutes']\n",
    "\n",
    "train.drop(['Hours', 'Minutes'], axis=1, inplace=True)\n",
    "test.drop(['Hours', 'Minutes'], axis=1, inplace=True)"
   ]
  },
  {
   "cell_type": "markdown",
   "metadata": {},
   "source": [
    "### plotting graphs for various features"
   ]
  },
  {
   "cell_type": "code",
   "execution_count": 504,
   "metadata": {
    "scrolled": true
   },
   "outputs": [
    {
     "data": {
      "image/png": "[encoded data removed]",
      "text/plain": [
       "<Figure size 648x360 with 1 Axes>"
      ]
     },
     "metadata": {},
     "output_type": "display_data"
    }
   ],
   "source": [
    "# looking at price distribution of the data\n",
    "\n",
    "plt.figure(figsize=(9,5))\n",
    "sns.distplot(train.Price)\n",
    "plt.show()"
   ]
  },
  {
   "cell_type": "raw",
   "metadata": {},
   "source": [
    "Insight:\n",
    "Price columns is postively skewed or right skewed"
   ]
  },
  {
   "cell_type": "markdown",
   "metadata": {},
   "source": [
    "### removing outliers from Price column"
   ]
  },
  {
   "cell_type": "code",
   "execution_count": 505,
   "metadata": {},
   "outputs": [
    {
     "data": {
      "text/plain": [
       "<AxesSubplot:ylabel='Price'>"
      ]
     },
     "execution_count": 505,
     "metadata": {},
     "output_type": "execute_result"
    },
    {
     "data": {
      "image/png": "[encoded data removed]",
      "text/plain": [
       "<Figure size 504x432 with 1 Axes>"
      ]
     },
     "metadata": {},
     "output_type": "display_data"
    }
   ],
   "source": [
    "plt.figure(figsize=(7,6))\n",
    "sns.boxplot(y='Price', data=train )"
   ]
  },
  {
   "cell_type": "code",
   "execution_count": 506,
   "metadata": {
    "scrolled": false
   },
   "outputs": [
    {
     "data": {
      "text/plain": [
       "<AxesSubplot:ylabel='Price'>"
      ]
     },
     "execution_count": 506,
     "metadata": {},
     "output_type": "execute_result"
    },
    {
     "data": {
      "image/png": "[encoded data removed]",
      "text/plain": [
       "<Figure size 504x432 with 1 Axes>"
      ]
     },
     "metadata": {},
     "output_type": "display_data"
    }
   ],
   "source": [
    "train = train[train['Price']<23000]\n",
    "\n",
    "plt.figure(figsize=(7,6))\n",
    "sns.boxplot(y='Price', data=train ) "
   ]
  },
  {
   "cell_type": "code",
   "execution_count": 507,
   "metadata": {},
   "outputs": [
    {
     "data": {
      "image/png": "[encoded data removed]",
      "text/plain": [
       "<Figure size 864x720 with 1 Axes>"
      ]
     },
     "metadata": {},
     "output_type": "display_data"
    }
   ],
   "source": [
    "plt.figure(figsize=(12,10))\n",
    "sns.scatterplot(data=train, x='Price',y='Duration',color='green')\n",
    "plt.show()\n",
    "\n",
    "# plt.figure(figsize=(9,5))\n",
    "# plt.scatter(train['Price'], train['Duration'])\n",
    "# plt.xlabel('Price')\n",
    "# plt.ylabel('Duration')\n",
    "# plt.show()"
   ]
  },
  {
   "cell_type": "code",
   "execution_count": 508,
   "metadata": {
    "scrolled": false
   },
   "outputs": [
    {
     "data": {
      "text/plain": [
       "Index(['Airline', 'Date_of_Journey', 'Source', 'Destination', 'Route',\n",
       "       'Dep_Time', 'Arrival_Time', 'Duration', 'Total_Stops',\n",
       "       'Additional_Info', 'Price', 'Days_bfr_journey'],\n",
       "      dtype='object')"
      ]
     },
     "execution_count": 508,
     "metadata": {},
     "output_type": "execute_result"
    }
   ],
   "source": [
    "train.columns"
   ]
  },
  {
   "cell_type": "code",
   "execution_count": 509,
   "metadata": {
    "scrolled": false
   },
   "outputs": [
    {
     "data": {
      "text/plain": [
       "<seaborn.axisgrid.FacetGrid at 0x1d559c07808>"
      ]
     },
     "execution_count": 509,
     "metadata": {},
     "output_type": "execute_result"
    },
    {
     "data": {
      "image/png": "[encoded data removed]",
      "text/plain": [
       "<Figure size 864x432 with 1 Axes>"
      ]
     },
     "metadata": {},
     "output_type": "display_data"
    }
   ],
   "source": [
    "sns.set(style=\"darkgrid\")\n",
    "sns.catplot(\n",
    "    data=train,\n",
    "    x='Total_Stops',\n",
    "    y='Price',\n",
    "    \n",
    "    kind='bar',\n",
    "    height=6, # make the plot 5 units high\n",
    "    aspect=2)"
   ]
  },
  {
   "cell_type": "raw",
   "metadata": {},
   "source": [
    "Insight:\n",
    "flights with 2 and 3 stops costs more\n",
    "non-stop flights cost cheapest"
   ]
  },
  {
   "cell_type": "code",
   "execution_count": 510,
   "metadata": {},
   "outputs": [
    {
     "data": {
      "text/plain": [
       "<seaborn.axisgrid.FacetGrid at 0x1d540766e48>"
      ]
     },
     "execution_count": 510,
     "metadata": {},
     "output_type": "execute_result"
    },
    {
     "data": {
      "image/png": "[encoded data removed]",
      "text/plain": [
       "<Figure size 864x432 with 1 Axes>"
      ]
     },
     "metadata": {},
     "output_type": "display_data"
    }
   ],
   "source": [
    "sns.set(style=\"darkgrid\")\n",
    "sns.catplot(\n",
    "    data=train,\n",
    "    x='Airline',\n",
    "    y='Price',\n",
    "    \n",
    "    kind='box',\n",
    "    height=6, # make the plot 5 units high\n",
    "    aspect=2)"
   ]
  },
  {
   "cell_type": "raw",
   "metadata": {},
   "source": [
    "Insight: \n",
    "Airline A and C are showing wide range of variaton in price."
   ]
  },
  {
   "cell_type": "code",
   "execution_count": 511,
   "metadata": {},
   "outputs": [
    {
     "data": {
      "text/plain": [
       "<seaborn.axisgrid.FacetGrid at 0x1d55bb8b388>"
      ]
     },
     "execution_count": 511,
     "metadata": {},
     "output_type": "execute_result"
    },
    {
     "data": {
      "image/png": "[encoded data removed]",
      "text/plain": [
       "<Figure size 864x432 with 1 Axes>"
      ]
     },
     "metadata": {},
     "output_type": "display_data"
    }
   ],
   "source": [
    "sns.catplot(\n",
    "    data=train,\n",
    "    x='Airline',\n",
    "    y='Price',\n",
    "    \n",
    "    kind='bar',\n",
    "    height=6, # make the plot 5 units high\n",
    "    aspect=2,\n",
    "    )"
   ]
  },
  {
   "cell_type": "raw",
   "metadata": {},
   "source": [
    "Insight:\n",
    "Airline A and Airline I are having most expensive ticket cost"
   ]
  },
  {
   "cell_type": "code",
   "execution_count": 512,
   "metadata": {
    "scrolled": false
   },
   "outputs": [
    {
     "data": {
      "image/png": "[encoded data removed]",
      "text/plain": [
       "<Figure size 648x360 with 1 Axes>"
      ]
     },
     "metadata": {},
     "output_type": "display_data"
    }
   ],
   "source": [
    "plt.figure(figsize=(9,5))\n",
    "train['Airline'].value_counts().plot.bar(color='red')\n",
    "plt.xlabel('Airlines')\n",
    "plt.show()"
   ]
  },
  {
   "cell_type": "raw",
   "metadata": {},
   "source": [
    "Insight:\n",
    "Airline A has most number of flights"
   ]
  },
  {
   "cell_type": "code",
   "execution_count": 513,
   "metadata": {},
   "outputs": [
    {
     "data": {
      "text/plain": [
       "<AxesSubplot:>"
      ]
     },
     "execution_count": 513,
     "metadata": {},
     "output_type": "execute_result"
    },
    {
     "data": {
      "image/png": "[encoded data removed]",
      "text/plain": [
       "<Figure size 720x720 with 2 Axes>"
      ]
     },
     "metadata": {},
     "output_type": "display_data"
    }
   ],
   "source": [
    "f,ax = plt.subplots(figsize=(10, 10))\n",
    "sns.heatmap(train.corr(),annot=True, linewidths=.5, fmt= '.1f',ax=ax)"
   ]
  },
  {
   "cell_type": "code",
   "execution_count": 514,
   "metadata": {},
   "outputs": [],
   "source": [
    "train['Price'] = np.log1p(train['Price'])\n",
    "\n",
    "train['Duration'] = np.log1p(train['Duration'])\n",
    "train['Duration'] = np.log1p(train['Days_bfr_journey'])\n",
    "\n",
    "test['Duration'] = np.log1p(test['Duration'])\n",
    "test['Duration'] = np.log1p(test['Days_bfr_journey'])\n"
   ]
  },
  {
   "cell_type": "code",
   "execution_count": 515,
   "metadata": {},
   "outputs": [],
   "source": [
    "train = train.drop('Route',1)\n",
    "test = test.drop('Route',1)"
   ]
  },
  {
   "cell_type": "code",
   "execution_count": 516,
   "metadata": {
    "scrolled": true
   },
   "outputs": [
    {
     "data": {
      "text/html": [
       "<div>\n",
       "<style scoped>\n",
       "    .dataframe tbody tr th:only-of-type {\n",
       "        vertical-align: middle;\n",
       "    }\n",
       "\n",
       "    .dataframe tbody tr th {\n",
       "        vertical-align: top;\n",
       "    }\n",
       "\n",
       "    .dataframe thead th {\n",
       "        text-align: right;\n",
       "    }\n",
       "</style>\n",
       "<table border=\"1\" class=\"dataframe\">\n",
       "  <thead>\n",
       "    <tr style=\"text-align: right;\">\n",
       "      <th></th>\n",
       "      <th>Airline</th>\n",
       "      <th>Date_of_Journey</th>\n",
       "      <th>Source</th>\n",
       "      <th>Destination</th>\n",
       "      <th>Dep_Time</th>\n",
       "      <th>Arrival_Time</th>\n",
       "      <th>Duration</th>\n",
       "      <th>Total_Stops</th>\n",
       "      <th>Additional_Info</th>\n",
       "      <th>Price</th>\n",
       "      <th>Days_bfr_journey</th>\n",
       "    </tr>\n",
       "  </thead>\n",
       "  <tbody>\n",
       "    <tr>\n",
       "      <td>0</td>\n",
       "      <td>Airline C</td>\n",
       "      <td>12/06/2019</td>\n",
       "      <td>Delhi</td>\n",
       "      <td>Cochin</td>\n",
       "      <td>20:40</td>\n",
       "      <td>09:25</td>\n",
       "      <td>5.093750</td>\n",
       "      <td>1 stop</td>\n",
       "      <td>No info</td>\n",
       "      <td>8.920122</td>\n",
       "      <td>162</td>\n",
       "    </tr>\n",
       "    <tr>\n",
       "      <td>1</td>\n",
       "      <td>Airline A</td>\n",
       "      <td>18/06/2019</td>\n",
       "      <td>Banglore</td>\n",
       "      <td>Delhi</td>\n",
       "      <td>18:55</td>\n",
       "      <td>22:00</td>\n",
       "      <td>5.129899</td>\n",
       "      <td>non-stop</td>\n",
       "      <td>No info</td>\n",
       "      <td>8.989320</td>\n",
       "      <td>168</td>\n",
       "    </tr>\n",
       "    <tr>\n",
       "      <td>2</td>\n",
       "      <td>Airline C</td>\n",
       "      <td>18/05/2019</td>\n",
       "      <td>Delhi</td>\n",
       "      <td>Cochin</td>\n",
       "      <td>03:50</td>\n",
       "      <td>19:15</td>\n",
       "      <td>4.927254</td>\n",
       "      <td>1 stop</td>\n",
       "      <td>No info</td>\n",
       "      <td>9.091557</td>\n",
       "      <td>137</td>\n",
       "    </tr>\n",
       "    <tr>\n",
       "      <td>3</td>\n",
       "      <td>Airline A</td>\n",
       "      <td>6/05/2019</td>\n",
       "      <td>Kolkata</td>\n",
       "      <td>Banglore</td>\n",
       "      <td>20:00</td>\n",
       "      <td>08:15</td>\n",
       "      <td>4.836282</td>\n",
       "      <td>1 stop</td>\n",
       "      <td>In-flight meal not included</td>\n",
       "      <td>9.176163</td>\n",
       "      <td>125</td>\n",
       "    </tr>\n",
       "    <tr>\n",
       "      <td>4</td>\n",
       "      <td>Airline A</td>\n",
       "      <td>9/05/2019</td>\n",
       "      <td>Kolkata</td>\n",
       "      <td>Banglore</td>\n",
       "      <td>06:30</td>\n",
       "      <td>12:00</td>\n",
       "      <td>4.859812</td>\n",
       "      <td>1 stop</td>\n",
       "      <td>In-flight meal not included</td>\n",
       "      <td>9.176163</td>\n",
       "      <td>128</td>\n",
       "    </tr>\n",
       "  </tbody>\n",
       "</table>\n",
       "</div>"
      ],
      "text/plain": [
       "     Airline Date_of_Journey    Source Destination Dep_Time Arrival_Time  \\\n",
       "0  Airline C      12/06/2019     Delhi      Cochin    20:40        09:25   \n",
       "1  Airline A      18/06/2019  Banglore       Delhi    18:55        22:00   \n",
       "2  Airline C      18/05/2019     Delhi      Cochin    03:50        19:15   \n",
       "3  Airline A       6/05/2019   Kolkata    Banglore    20:00        08:15   \n",
       "4  Airline A       9/05/2019   Kolkata    Banglore    06:30        12:00   \n",
       "\n",
       "   Duration Total_Stops              Additional_Info     Price  \\\n",
       "0  5.093750      1 stop                      No info  8.920122   \n",
       "1  5.129899    non-stop                      No info  8.989320   \n",
       "2  4.927254      1 stop                      No info  9.091557   \n",
       "3  4.836282      1 stop  In-flight meal not included  9.176163   \n",
       "4  4.859812      1 stop  In-flight meal not included  9.176163   \n",
       "\n",
       "   Days_bfr_journey  \n",
       "0               162  \n",
       "1               168  \n",
       "2               137  \n",
       "3               125  \n",
       "4               128  "
      ]
     },
     "execution_count": 516,
     "metadata": {},
     "output_type": "execute_result"
    }
   ],
   "source": [
    "train.head()"
   ]
  },
  {
   "cell_type": "code",
   "execution_count": 517,
   "metadata": {
    "scrolled": true
   },
   "outputs": [],
   "source": [
    "#converting all categorical values using get_dummies to numerical\n",
    "\n",
    "train['label'] = 'train'\n",
    "test['label'] = 'test'\n",
    "\n",
    "concat_df = pd.concat([train,test])\n",
    "\n",
    "features_df = pd.get_dummies(concat_df, columns=['Airline', 'Date_of_Journey', 'Source', 'Destination', 'Dep_Time','Arrival_Time', 'Total_Stops', 'Additional_Info'], drop_first=True)\n",
    "\n",
    "# train = pd.get_dummies(train, columns=['Airline', 'Date_of_Journey', 'Source', 'Destination', 'Dep_Time',\n",
    "#        'Arrival_Time', 'Total_Stops', 'Additional_Info'],drop_first=True)\n",
    "\n",
    "# test = pd.get_dummies(test, columns=['Airline', 'Date_of_Journey', 'Source', 'Destination', 'Dep_Time',\n",
    "#        'Arrival_Time', 'Total_Stops', 'Additional_Info'],drop_first=True)\n",
    "\n",
    "train = features_df[features_df['label']=='train']\n",
    "test = features_df[features_df['label']=='test']\n",
    "\n",
    "train = train.drop('label',1)\n",
    "test = test.drop('label',1)"
   ]
  },
  {
   "cell_type": "code",
   "execution_count": 518,
   "metadata": {},
   "outputs": [
    {
     "data": {
      "text/html": [
       "<div>\n",
       "<style scoped>\n",
       "    .dataframe tbody tr th:only-of-type {\n",
       "        vertical-align: middle;\n",
       "    }\n",
       "\n",
       "    .dataframe tbody tr th {\n",
       "        vertical-align: top;\n",
       "    }\n",
       "\n",
       "    .dataframe thead th {\n",
       "        text-align: right;\n",
       "    }\n",
       "</style>\n",
       "<table border=\"1\" class=\"dataframe\">\n",
       "  <thead>\n",
       "    <tr style=\"text-align: right;\">\n",
       "      <th></th>\n",
       "      <th>Days_bfr_journey</th>\n",
       "      <th>Duration</th>\n",
       "      <th>Price</th>\n",
       "      <th>Airline_Airline B</th>\n",
       "      <th>Airline_Airline C</th>\n",
       "      <th>Airline_Airline D</th>\n",
       "      <th>Airline_Airline E</th>\n",
       "      <th>Airline_Airline F</th>\n",
       "      <th>Airline_Airline G</th>\n",
       "      <th>Airline_Airline H</th>\n",
       "      <th>...</th>\n",
       "      <th>Total_Stops_3 stops</th>\n",
       "      <th>Total_Stops_4 stops</th>\n",
       "      <th>Total_Stops_non-stop</th>\n",
       "      <th>Additional_Info_Business class</th>\n",
       "      <th>Additional_Info_Change airports</th>\n",
       "      <th>Additional_Info_In-flight meal not included</th>\n",
       "      <th>Additional_Info_No Info</th>\n",
       "      <th>Additional_Info_No check-in baggage included</th>\n",
       "      <th>Additional_Info_No info</th>\n",
       "      <th>Additional_Info_Red-eye flight</th>\n",
       "    </tr>\n",
       "  </thead>\n",
       "  <tbody>\n",
       "    <tr>\n",
       "      <td>0</td>\n",
       "      <td>162</td>\n",
       "      <td>5.093750</td>\n",
       "      <td>8.920122</td>\n",
       "      <td>0</td>\n",
       "      <td>1</td>\n",
       "      <td>0</td>\n",
       "      <td>0</td>\n",
       "      <td>0</td>\n",
       "      <td>0</td>\n",
       "      <td>0</td>\n",
       "      <td>...</td>\n",
       "      <td>0</td>\n",
       "      <td>0</td>\n",
       "      <td>0</td>\n",
       "      <td>0</td>\n",
       "      <td>0</td>\n",
       "      <td>0</td>\n",
       "      <td>0</td>\n",
       "      <td>0</td>\n",
       "      <td>1</td>\n",
       "      <td>0</td>\n",
       "    </tr>\n",
       "    <tr>\n",
       "      <td>1</td>\n",
       "      <td>168</td>\n",
       "      <td>5.129899</td>\n",
       "      <td>8.989320</td>\n",
       "      <td>0</td>\n",
       "      <td>0</td>\n",
       "      <td>0</td>\n",
       "      <td>0</td>\n",
       "      <td>0</td>\n",
       "      <td>0</td>\n",
       "      <td>0</td>\n",
       "      <td>...</td>\n",
       "      <td>0</td>\n",
       "      <td>0</td>\n",
       "      <td>1</td>\n",
       "      <td>0</td>\n",
       "      <td>0</td>\n",
       "      <td>0</td>\n",
       "      <td>0</td>\n",
       "      <td>0</td>\n",
       "      <td>1</td>\n",
       "      <td>0</td>\n",
       "    </tr>\n",
       "    <tr>\n",
       "      <td>2</td>\n",
       "      <td>137</td>\n",
       "      <td>4.927254</td>\n",
       "      <td>9.091557</td>\n",
       "      <td>0</td>\n",
       "      <td>1</td>\n",
       "      <td>0</td>\n",
       "      <td>0</td>\n",
       "      <td>0</td>\n",
       "      <td>0</td>\n",
       "      <td>0</td>\n",
       "      <td>...</td>\n",
       "      <td>0</td>\n",
       "      <td>0</td>\n",
       "      <td>0</td>\n",
       "      <td>0</td>\n",
       "      <td>0</td>\n",
       "      <td>0</td>\n",
       "      <td>0</td>\n",
       "      <td>0</td>\n",
       "      <td>1</td>\n",
       "      <td>0</td>\n",
       "    </tr>\n",
       "    <tr>\n",
       "      <td>3</td>\n",
       "      <td>125</td>\n",
       "      <td>4.836282</td>\n",
       "      <td>9.176163</td>\n",
       "      <td>0</td>\n",
       "      <td>0</td>\n",
       "      <td>0</td>\n",
       "      <td>0</td>\n",
       "      <td>0</td>\n",
       "      <td>0</td>\n",
       "      <td>0</td>\n",
       "      <td>...</td>\n",
       "      <td>0</td>\n",
       "      <td>0</td>\n",
       "      <td>0</td>\n",
       "      <td>0</td>\n",
       "      <td>0</td>\n",
       "      <td>1</td>\n",
       "      <td>0</td>\n",
       "      <td>0</td>\n",
       "      <td>0</td>\n",
       "      <td>0</td>\n",
       "    </tr>\n",
       "    <tr>\n",
       "      <td>4</td>\n",
       "      <td>128</td>\n",
       "      <td>4.859812</td>\n",
       "      <td>9.176163</td>\n",
       "      <td>0</td>\n",
       "      <td>0</td>\n",
       "      <td>0</td>\n",
       "      <td>0</td>\n",
       "      <td>0</td>\n",
       "      <td>0</td>\n",
       "      <td>0</td>\n",
       "      <td>...</td>\n",
       "      <td>0</td>\n",
       "      <td>0</td>\n",
       "      <td>0</td>\n",
       "      <td>0</td>\n",
       "      <td>0</td>\n",
       "      <td>1</td>\n",
       "      <td>0</td>\n",
       "      <td>0</td>\n",
       "      <td>0</td>\n",
       "      <td>0</td>\n",
       "    </tr>\n",
       "  </tbody>\n",
       "</table>\n",
       "<p>5 rows × 559 columns</p>\n",
       "</div>"
      ],
      "text/plain": [
       "   Days_bfr_journey  Duration     Price  Airline_Airline B  Airline_Airline C  \\\n",
       "0               162  5.093750  8.920122                  0                  1   \n",
       "1               168  5.129899  8.989320                  0                  0   \n",
       "2               137  4.927254  9.091557                  0                  1   \n",
       "3               125  4.836282  9.176163                  0                  0   \n",
       "4               128  4.859812  9.176163                  0                  0   \n",
       "\n",
       "   Airline_Airline D  Airline_Airline E  Airline_Airline F  Airline_Airline G  \\\n",
       "0                  0                  0                  0                  0   \n",
       "1                  0                  0                  0                  0   \n",
       "2                  0                  0                  0                  0   \n",
       "3                  0                  0                  0                  0   \n",
       "4                  0                  0                  0                  0   \n",
       "\n",
       "   Airline_Airline H  ...  Total_Stops_3 stops  Total_Stops_4 stops  \\\n",
       "0                  0  ...                    0                    0   \n",
       "1                  0  ...                    0                    0   \n",
       "2                  0  ...                    0                    0   \n",
       "3                  0  ...                    0                    0   \n",
       "4                  0  ...                    0                    0   \n",
       "\n",
       "   Total_Stops_non-stop  Additional_Info_Business class  \\\n",
       "0                     0                               0   \n",
       "1                     1                               0   \n",
       "2                     0                               0   \n",
       "3                     0                               0   \n",
       "4                     0                               0   \n",
       "\n",
       "   Additional_Info_Change airports  \\\n",
       "0                                0   \n",
       "1                                0   \n",
       "2                                0   \n",
       "3                                0   \n",
       "4                                0   \n",
       "\n",
       "   Additional_Info_In-flight meal not included  Additional_Info_No Info  \\\n",
       "0                                            0                        0   \n",
       "1                                            0                        0   \n",
       "2                                            0                        0   \n",
       "3                                            1                        0   \n",
       "4                                            1                        0   \n",
       "\n",
       "   Additional_Info_No check-in baggage included  Additional_Info_No info  \\\n",
       "0                                             0                        1   \n",
       "1                                             0                        1   \n",
       "2                                             0                        1   \n",
       "3                                             0                        0   \n",
       "4                                             0                        0   \n",
       "\n",
       "   Additional_Info_Red-eye flight  \n",
       "0                               0  \n",
       "1                               0  \n",
       "2                               0  \n",
       "3                               0  \n",
       "4                               0  \n",
       "\n",
       "[5 rows x 559 columns]"
      ]
     },
     "execution_count": 518,
     "metadata": {},
     "output_type": "execute_result"
    }
   ],
   "source": [
    "train.head()"
   ]
  },
  {
   "cell_type": "code",
   "execution_count": 519,
   "metadata": {},
   "outputs": [
    {
     "name": "stdout",
     "output_type": "stream",
     "text": [
      "(7937, 559) (2671, 559)\n"
     ]
    }
   ],
   "source": [
    "print(train.shape, test.shape)"
   ]
  },
  {
   "cell_type": "code",
   "execution_count": 520,
   "metadata": {},
   "outputs": [],
   "source": [
    "#model building\n",
    "\n",
    "X = train.drop('Price',1)\n",
    "y = train['Price']"
   ]
  },
  {
   "cell_type": "code",
   "execution_count": 521,
   "metadata": {},
   "outputs": [],
   "source": [
    "X_train, X_test, y_train, y_test = train_test_split(X,y,test_size=0.20, random_state=0)"
   ]
  },
  {
   "cell_type": "code",
   "execution_count": 522,
   "metadata": {},
   "outputs": [
    {
     "name": "stdout",
     "output_type": "stream",
     "text": [
      "RMSLE: 0.12187275262906397\n",
      "0.9393939641597225\n"
     ]
    }
   ],
   "source": [
    "from sklearn.ensemble import BaggingRegressor\n",
    "br = BaggingRegressor(base_estimator=None, \n",
    "                      n_estimators=50, \n",
    "                      max_samples=1.0, \n",
    "                      max_features=1.0, \n",
    "                      bootstrap=True, \n",
    "                      bootstrap_features=False, \n",
    "                      oob_score=False, \n",
    "                      warm_start=False, \n",
    "                      n_jobs=1, \n",
    "                      random_state=1, \n",
    "                      verbose=0)\n",
    "br.fit(X_train, y_train)\n",
    "y_pred1 = br.predict(X_test)\n",
    "print('RMSLE:', np.sqrt(mean_squared_error(y_test,y_pred1)))\n",
    "\n",
    "xgbaccuracy= r2_score(y_test, y_pred1)\n",
    "print(xgbaccuracy)"
   ]
  },
  {
   "cell_type": "code",
   "execution_count": 523,
   "metadata": {},
   "outputs": [
    {
     "name": "stdout",
     "output_type": "stream",
     "text": [
      "0.30524856956151164\n",
      "0.6198019258068183\n"
     ]
    }
   ],
   "source": [
    "rf_clf1 = RandomForestRegressor(max_depth=2, random_state=2)\n",
    "rf_clf1.fit(X_train, y_train)\n",
    "\n",
    "prediction1 = rf_clf1.predict(X_test)\n",
    "\n",
    "\n",
    "rmse_rd = np.sqrt(mean_squared_error(y_test, prediction1))\n",
    "print(rmse_rd)\n",
    "\n",
    "rfaccuracy= r2_score(y_test, prediction1)\n",
    "print(rfaccuracy)"
   ]
  },
  {
   "cell_type": "code",
   "execution_count": 524,
   "metadata": {},
   "outputs": [
    {
     "name": "stdout",
     "output_type": "stream",
     "text": [
      "0.19435196878880406\n"
     ]
    },
    {
     "data": {
      "text/plain": [
       "0.8458723606905689"
      ]
     },
     "execution_count": 524,
     "metadata": {},
     "output_type": "execute_result"
    }
   ],
   "source": [
    "from sklearn.ensemble import GradientBoostingRegressor\n",
    "\n",
    "gb_clf = GradientBoostingRegressor(random_state=0)\n",
    "\n",
    "gb_clf.fit(X_train, y_train)\n",
    "gb_score = gb_clf.predict(X_test)\n",
    "\n",
    "rmsee = np.sqrt(mean_squared_error(y_test, gb_score))\n",
    "print(rmsee)\n",
    "\n",
    "r2_score(y_test, gb_score)"
   ]
  },
  {
   "cell_type": "code",
   "execution_count": 525,
   "metadata": {
    "scrolled": true
   },
   "outputs": [
    {
     "name": "stdout",
     "output_type": "stream",
     "text": [
      "      Iter       Train Loss   Remaining Time \n",
      "         1           0.1472           14.80s\n",
      "         2           0.0939           16.65s\n",
      "         3           0.0641           16.84s\n",
      "         4           0.0492           16.40s\n",
      "         5           0.0389           17.18s\n",
      "         6           0.0336           18.04s\n",
      "         7           0.0294           17.89s\n",
      "         8           0.0273           18.58s\n",
      "         9           0.0249           18.54s\n",
      "        10           0.0226           18.84s\n",
      "        11           0.0217           19.06s\n",
      "        12           0.0202           18.94s\n",
      "        13           0.0196           19.29s\n",
      "        14           0.0192           19.37s\n",
      "        15           0.0186           19.59s\n",
      "        16           0.0182           19.46s\n",
      "        17           0.0179           19.28s\n",
      "        18           0.0173           19.36s\n",
      "        19           0.0169           19.41s\n",
      "        20           0.0166           19.37s\n",
      "        21           0.0164           19.36s\n",
      "        22           0.0159           19.23s\n",
      "        23           0.0157           19.13s\n",
      "        24           0.0154           18.90s\n",
      "        25           0.0152           18.70s\n",
      "        26           0.0148           18.43s\n",
      "        27           0.0146           18.24s\n",
      "        28           0.0145           18.04s\n",
      "        29           0.0144           17.96s\n",
      "        30           0.0141           17.75s\n",
      "        31           0.0140           17.56s\n",
      "        32           0.0138           17.35s\n",
      "        33           0.0137           17.21s\n",
      "        34           0.0135           17.22s\n",
      "        35           0.0134           17.19s\n",
      "        36           0.0132           17.10s\n",
      "        37           0.0130           16.92s\n",
      "        38           0.0129           16.75s\n",
      "        39           0.0128           16.57s\n",
      "        40           0.0126           16.51s\n",
      "        41           0.0125           16.35s\n",
      "        42           0.0123           16.15s\n",
      "        43           0.0121           16.02s\n",
      "        44           0.0121           15.86s\n",
      "        45           0.0120           15.66s\n",
      "        46           0.0118           15.49s\n",
      "        47           0.0118           15.35s\n",
      "        48           0.0116           15.13s\n",
      "        49           0.0115           15.02s\n",
      "        50           0.0114           14.88s\n",
      "        51           0.0114           14.75s\n",
      "        52           0.0113           14.60s\n",
      "        53           0.0111           14.43s\n",
      "        54           0.0109           14.30s\n",
      "        55           0.0107           14.13s\n",
      "        56           0.0107           13.95s\n",
      "        57           0.0106           13.81s\n",
      "        58           0.0106           13.65s\n",
      "        59           0.0105           13.57s\n",
      "        60           0.0104           13.39s\n",
      "        61           0.0104           13.24s\n",
      "        62           0.0104           13.11s\n",
      "        63           0.0103           12.97s\n",
      "        64           0.0101           12.80s\n",
      "        65           0.0101           12.67s\n",
      "        66           0.0100           12.52s\n",
      "        67           0.0099           12.37s\n",
      "        68           0.0098           12.20s\n",
      "        69           0.0097           12.06s\n",
      "        70           0.0097           11.93s\n",
      "        71           0.0096           11.76s\n",
      "        72           0.0095           11.62s\n",
      "        73           0.0095           11.45s\n",
      "        74           0.0095           11.29s\n",
      "        75           0.0094           11.13s\n",
      "        76           0.0094           10.97s\n",
      "        77           0.0094           10.83s\n",
      "        78           0.0093           10.68s\n",
      "        79           0.0091           10.53s\n",
      "        80           0.0090           10.39s\n",
      "        81           0.0090           10.24s\n",
      "        82           0.0089           10.09s\n",
      "        83           0.0088            9.93s\n",
      "        84           0.0087            9.78s\n",
      "        85           0.0087            9.63s\n",
      "        86           0.0087            9.47s\n",
      "        87           0.0087            9.32s\n",
      "        88           0.0086            9.16s\n",
      "        89           0.0085            9.01s\n",
      "        90           0.0085            8.88s\n",
      "        91           0.0084            8.76s\n",
      "        92           0.0084            8.60s\n",
      "        93           0.0083            8.45s\n",
      "        94           0.0083            8.30s\n",
      "        95           0.0083            8.17s\n",
      "        96           0.0082            8.01s\n",
      "        97           0.0082            7.86s\n",
      "        98           0.0082            7.70s\n",
      "        99           0.0081            7.55s\n",
      "       100           0.0081            7.39s\n",
      "       101           0.0081            7.25s\n",
      "       102           0.0081            7.11s\n",
      "       103           0.0080            6.97s\n",
      "       104           0.0080            6.83s\n",
      "       105           0.0080            6.69s\n",
      "       106           0.0079            6.53s\n",
      "       107           0.0079            6.39s\n",
      "       108           0.0079            6.25s\n",
      "       109           0.0079            6.11s\n",
      "       110           0.0079            5.95s\n",
      "       111           0.0078            5.80s\n",
      "       112           0.0077            5.65s\n",
      "       113           0.0077            5.50s\n",
      "       114           0.0077            5.35s\n",
      "       115           0.0076            5.20s\n",
      "       116           0.0076            5.05s\n",
      "       117           0.0076            4.90s\n",
      "       118           0.0075            4.75s\n",
      "       119           0.0075            4.60s\n",
      "       120           0.0075            4.46s\n",
      "       121           0.0074            4.31s\n",
      "       122           0.0074            4.16s\n",
      "       123           0.0074            4.01s\n",
      "       124           0.0074            3.86s\n",
      "       125           0.0074            3.71s\n",
      "       126           0.0073            3.55s\n",
      "       127           0.0073            3.41s\n",
      "       128           0.0073            3.25s\n",
      "       129           0.0072            3.11s\n",
      "       130           0.0072            2.96s\n",
      "       131           0.0072            2.81s\n",
      "       132           0.0072            2.67s\n",
      "       133           0.0071            2.52s\n",
      "       134           0.0071            2.37s\n",
      "       135           0.0071            2.22s\n",
      "       136           0.0070            2.07s\n",
      "       137           0.0070            1.93s\n",
      "       138           0.0070            1.78s\n",
      "       139           0.0070            1.63s\n",
      "       140           0.0069            1.49s\n",
      "       141           0.0069            1.34s\n",
      "       142           0.0069            1.19s\n",
      "       143           0.0069            1.05s\n",
      "       144           0.0068            0.90s\n",
      "       145           0.0068            0.75s\n",
      "       146           0.0068            0.60s\n",
      "       147           0.0067            0.45s\n",
      "       148           0.0067            0.30s\n",
      "       149           0.0067            0.15s\n",
      "       150           0.0066            0.00s\n"
     ]
    }
   ],
   "source": [
    "gb = GradientBoostingRegressor(loss='ls', \n",
    "                               learning_rate=0.3, \n",
    "                               n_estimators=150, \n",
    "                               subsample=1.0, \n",
    "                               criterion='friedman_mse', \n",
    "                               min_samples_split=30, \n",
    "                               min_samples_leaf=1, \n",
    "                               min_weight_fraction_leaf=0.0, \n",
    "                               max_depth=7, \n",
    "                               min_impurity_decrease=0.0, \n",
    "                               min_impurity_split=None, \n",
    "                               init=None, \n",
    "                               random_state=0, \n",
    "                               max_features=None, \n",
    "                               alpha=0.9, \n",
    "                               verbose=100, \n",
    "                               max_leaf_nodes=None, \n",
    "                               warm_start=False, \n",
    "                               presort='auto')\n",
    "\n",
    "gb.fit(X_train, y_train)\n",
    "y_pred2 = gb.predict(X_test)\n",
    "rmse_gb = np.sqrt(mean_squared_error(y_test, y_pred2))"
   ]
  },
  {
   "cell_type": "code",
   "execution_count": 526,
   "metadata": {
    "scrolled": true
   },
   "outputs": [
    {
     "name": "stdout",
     "output_type": "stream",
     "text": [
      "0.9340535134210516 0.12712896533962764\n"
     ]
    }
   ],
   "source": [
    "rmse_gb\n",
    "\n",
    "grb_acc = r2_score((y_test), (y_pred2))\n",
    "print(grb_acc, rmse_gb)"
   ]
  },
  {
   "cell_type": "code",
   "execution_count": 527,
   "metadata": {},
   "outputs": [
    {
     "name": "stdout",
     "output_type": "stream",
     "text": [
      "0.12545040903926016\n",
      "0.935783474902697\n"
     ]
    }
   ],
   "source": [
    "from xgboost import XGBRegressor\n",
    "xgb = XGBRegressor(max_depth=9, \n",
    "                   learning_rate=0.5, \n",
    "                   n_estimators=112, \n",
    "                   silent=False, \n",
    "                   objective='reg:squarederror', \n",
    "                   booster='gbtree', \n",
    "                   n_jobs=1, \n",
    "                   nthread=None, \n",
    "                   gamma=0, \n",
    "                   min_child_weight=1, \n",
    "                   max_delta_step=0, \n",
    "                   subsample=1, \n",
    "                   colsample_bytree=1, \n",
    "                   colsample_bylevel=1, \n",
    "                   reg_alpha=1, \n",
    "                   reg_lambda=1, \n",
    "                   scale_pos_weight=1, \n",
    "                   base_score=0.5, \n",
    "                   random_state=0, \n",
    "                   seed=None)\n",
    "xgb.fit(X_train, y_train)\n",
    "y_pred3 = xgb.predict(X_test)\n",
    "\n",
    "xgb_rmse = np.sqrt(mean_squared_error(y_test,y_pred3 ))\n",
    "print(xgb_rmse)\n",
    "print(r2_score(y_test, y_pred3))"
   ]
  },
  {
   "cell_type": "markdown",
   "metadata": {},
   "source": [
    "## prediction on test set"
   ]
  },
  {
   "cell_type": "code",
   "execution_count": 528,
   "metadata": {},
   "outputs": [],
   "source": [
    "test = test.drop('Price',1)"
   ]
  },
  {
   "cell_type": "code",
   "execution_count": 529,
   "metadata": {},
   "outputs": [],
   "source": [
    "final_1 = gb.predict(test)\n",
    "output = pd.DataFrame(data = np.exp(final_1), columns=['Price'])\n",
    "#output = output['Price'].astype(int)\n",
    "output.to_csv('third_sub.csv', index=False)\n",
    "output"
   ]
  }
 ],
 "metadata": {
  "kernelspec": {
   "display_name": "Python 3",
   "language": "python",
   "name": "python3"
  },
  "language_info": {
   "codemirror_mode": {
    "name": "ipython",
    "version": 3
   },
   "file_extension": ".py",
   "mimetype": "text/x-python",
   "name": "python",
   "nbconvert_exporter": "python",
   "pygments_lexer": "ipython3",
   "version": "3.7.4"
  }
 },
 "nbformat": 4,
 "nbformat_minor": 2
}
